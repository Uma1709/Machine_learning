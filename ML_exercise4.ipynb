{
  "cells": [
    {
      "cell_type": "markdown",
      "metadata": {
        "id": "view-in-github",
        "colab_type": "text"
      },
      "source": [
        "<a href=\"https://colab.research.google.com/github/Uma1709/Machine_learning/blob/main/ML_exercise4.ipynb\" target=\"_parent\"><img src=\"https://colab.research.google.com/assets/colab-badge.svg\" alt=\"Open In Colab\"/></a>"
      ]
    },
    {
      "cell_type": "code",
      "execution_count": null,
      "id": "7caf957e",
      "metadata": {
        "id": "7caf957e"
      },
      "outputs": [],
      "source": [
        "#import neccessary libraries\n",
        "\n",
        "import pandas as pd\n",
        "import numpy as np"
      ]
    },
    {
      "cell_type": "code",
      "execution_count": null,
      "id": "7521be30",
      "metadata": {
        "id": "7521be30",
        "outputId": "e905d9be-8af1-48de-cc56-f3db8c55894f"
      },
      "outputs": [
        {
          "data": {
            "text/html": [
              "<div>\n",
              "<style scoped>\n",
              "    .dataframe tbody tr th:only-of-type {\n",
              "        vertical-align: middle;\n",
              "    }\n",
              "\n",
              "    .dataframe tbody tr th {\n",
              "        vertical-align: top;\n",
              "    }\n",
              "\n",
              "    .dataframe thead th {\n",
              "        text-align: right;\n",
              "    }\n",
              "</style>\n",
              "<table border=\"1\" class=\"dataframe\">\n",
              "  <thead>\n",
              "    <tr style=\"text-align: right;\">\n",
              "      <th></th>\n",
              "      <th>Id</th>\n",
              "      <th>Comment</th>\n",
              "      <th>Topic</th>\n",
              "    </tr>\n",
              "  </thead>\n",
              "  <tbody>\n",
              "    <tr>\n",
              "      <th>0</th>\n",
              "      <td>0x840</td>\n",
              "      <td>A few things. You might have negative- frequen...</td>\n",
              "      <td>Biology</td>\n",
              "    </tr>\n",
              "    <tr>\n",
              "      <th>1</th>\n",
              "      <td>0xbf0</td>\n",
              "      <td>Is it so hard to believe that there exist part...</td>\n",
              "      <td>Physics</td>\n",
              "    </tr>\n",
              "    <tr>\n",
              "      <th>2</th>\n",
              "      <td>0x1dfc</td>\n",
              "      <td>There are bees</td>\n",
              "      <td>Biology</td>\n",
              "    </tr>\n",
              "    <tr>\n",
              "      <th>3</th>\n",
              "      <td>0xc7e</td>\n",
              "      <td>I'm a medication technician. And that's alot o...</td>\n",
              "      <td>Biology</td>\n",
              "    </tr>\n",
              "    <tr>\n",
              "      <th>4</th>\n",
              "      <td>0xbba</td>\n",
              "      <td>Cesium is such a pretty metal.</td>\n",
              "      <td>Chemistry</td>\n",
              "    </tr>\n",
              "    <tr>\n",
              "      <th>5</th>\n",
              "      <td>0xb39</td>\n",
              "      <td>I meant that the question itself is unclear.</td>\n",
              "      <td>Chemistry</td>\n",
              "    </tr>\n",
              "    <tr>\n",
              "      <th>6</th>\n",
              "      <td>0x1f3d</td>\n",
              "      <td>Shove it up your ass and see what happens</td>\n",
              "      <td>Biology</td>\n",
              "    </tr>\n",
              "    <tr>\n",
              "      <th>7</th>\n",
              "      <td>0x531</td>\n",
              "      <td>??? I mean it has some butter, but besides tha...</td>\n",
              "      <td>Chemistry</td>\n",
              "    </tr>\n",
              "    <tr>\n",
              "      <th>8</th>\n",
              "      <td>0xe05</td>\n",
              "      <td>https://t.me/joinchat/3gElLHLuMCxhNGI0</td>\n",
              "      <td>Biology</td>\n",
              "    </tr>\n",
              "    <tr>\n",
              "      <th>9</th>\n",
              "      <td>0x2148</td>\n",
              "      <td>Well, that’s just the thing. You can’t really ...</td>\n",
              "      <td>Biology</td>\n",
              "    </tr>\n",
              "  </tbody>\n",
              "</table>\n",
              "</div>"
            ],
            "text/plain": [
              "       Id                                            Comment      Topic\n",
              "0   0x840  A few things. You might have negative- frequen...    Biology\n",
              "1   0xbf0  Is it so hard to believe that there exist part...    Physics\n",
              "2  0x1dfc                                     There are bees    Biology\n",
              "3   0xc7e  I'm a medication technician. And that's alot o...    Biology\n",
              "4   0xbba                     Cesium is such a pretty metal.  Chemistry\n",
              "5   0xb39       I meant that the question itself is unclear.  Chemistry\n",
              "6  0x1f3d          Shove it up your ass and see what happens    Biology\n",
              "7   0x531  ??? I mean it has some butter, but besides tha...  Chemistry\n",
              "8   0xe05             https://t.me/joinchat/3gElLHLuMCxhNGI0    Biology\n",
              "9  0x2148  Well, that’s just the thing. You can’t really ...    Biology"
            ]
          },
          "execution_count": 43,
          "metadata": {},
          "output_type": "execute_result"
        }
      ],
      "source": [
        "#import the dataset\n",
        "\n",
        "df = pd.read_csv(r\"C:\\Users\\21ad016\\Desktop\\ML\\Datasets\\Text_classification\\train.csv\\train.csv\")\n",
        "df.head(10)"
      ]
    },
    {
      "cell_type": "code",
      "execution_count": null,
      "id": "3050e4e8",
      "metadata": {
        "id": "3050e4e8",
        "outputId": "56e19e06-292b-43f7-8ade-2e4cee33731c"
      },
      "outputs": [
        {
          "data": {
            "text/plain": [
              "Id         0\n",
              "Comment    0\n",
              "Topic      0\n",
              "dtype: int64"
            ]
          },
          "execution_count": 44,
          "metadata": {},
          "output_type": "execute_result"
        }
      ],
      "source": [
        "#check for null values\n",
        "\n",
        "df.isnull().sum()"
      ]
    },
    {
      "cell_type": "code",
      "execution_count": null,
      "id": "0bcbe17e",
      "metadata": {
        "id": "0bcbe17e",
        "outputId": "0a1ea902-9dab-4886-f8a7-668af487431c"
      },
      "outputs": [
        {
          "name": "stdout",
          "output_type": "stream",
          "text": [
            "<class 'pandas.core.frame.DataFrame'>\n",
            "RangeIndex: 8695 entries, 0 to 8694\n",
            "Data columns (total 3 columns):\n",
            " #   Column   Non-Null Count  Dtype \n",
            "---  ------   --------------  ----- \n",
            " 0   Id       8695 non-null   object\n",
            " 1   Comment  8695 non-null   object\n",
            " 2   Topic    8695 non-null   object\n",
            "dtypes: object(3)\n",
            "memory usage: 203.9+ KB\n"
          ]
        }
      ],
      "source": [
        "df.info()\n"
      ]
    },
    {
      "cell_type": "code",
      "execution_count": null,
      "id": "5da3f25a",
      "metadata": {
        "id": "5da3f25a",
        "outputId": "dd8ac6fa-89e5-41ae-9e68-2189b3aa2a52"
      },
      "outputs": [
        {
          "data": {
            "text/html": [
              "<div>\n",
              "<style scoped>\n",
              "    .dataframe tbody tr th:only-of-type {\n",
              "        vertical-align: middle;\n",
              "    }\n",
              "\n",
              "    .dataframe tbody tr th {\n",
              "        vertical-align: top;\n",
              "    }\n",
              "\n",
              "    .dataframe thead th {\n",
              "        text-align: right;\n",
              "    }\n",
              "</style>\n",
              "<table border=\"1\" class=\"dataframe\">\n",
              "  <thead>\n",
              "    <tr style=\"text-align: right;\">\n",
              "      <th></th>\n",
              "      <th>Id</th>\n",
              "      <th>Comment</th>\n",
              "      <th>Topic</th>\n",
              "    </tr>\n",
              "  </thead>\n",
              "  <tbody>\n",
              "    <tr>\n",
              "      <th>count</th>\n",
              "      <td>8695</td>\n",
              "      <td>8695</td>\n",
              "      <td>8695</td>\n",
              "    </tr>\n",
              "    <tr>\n",
              "      <th>unique</th>\n",
              "      <td>8695</td>\n",
              "      <td>7950</td>\n",
              "      <td>3</td>\n",
              "    </tr>\n",
              "    <tr>\n",
              "      <th>top</th>\n",
              "      <td>0x840</td>\n",
              "      <td>[removed]</td>\n",
              "      <td>Biology</td>\n",
              "    </tr>\n",
              "    <tr>\n",
              "      <th>freq</th>\n",
              "      <td>1</td>\n",
              "      <td>114</td>\n",
              "      <td>3591</td>\n",
              "    </tr>\n",
              "  </tbody>\n",
              "</table>\n",
              "</div>"
            ],
            "text/plain": [
              "           Id    Comment    Topic\n",
              "count    8695       8695     8695\n",
              "unique   8695       7950        3\n",
              "top     0x840  [removed]  Biology\n",
              "freq        1        114     3591"
            ]
          },
          "execution_count": 46,
          "metadata": {},
          "output_type": "execute_result"
        }
      ],
      "source": [
        "df.describe()"
      ]
    },
    {
      "cell_type": "code",
      "execution_count": null,
      "id": "b372625f",
      "metadata": {
        "id": "b372625f"
      },
      "outputs": [],
      "source": [
        "df = df.drop(['Id'],axis =1)"
      ]
    },
    {
      "cell_type": "code",
      "execution_count": null,
      "id": "c5be3349",
      "metadata": {
        "id": "c5be3349",
        "outputId": "7200d02a-1431-4500-a14e-4aa8d1c751f6"
      },
      "outputs": [
        {
          "data": {
            "text/html": [
              "<div>\n",
              "<style scoped>\n",
              "    .dataframe tbody tr th:only-of-type {\n",
              "        vertical-align: middle;\n",
              "    }\n",
              "\n",
              "    .dataframe tbody tr th {\n",
              "        vertical-align: top;\n",
              "    }\n",
              "\n",
              "    .dataframe thead th {\n",
              "        text-align: right;\n",
              "    }\n",
              "</style>\n",
              "<table border=\"1\" class=\"dataframe\">\n",
              "  <thead>\n",
              "    <tr style=\"text-align: right;\">\n",
              "      <th></th>\n",
              "      <th>Comment</th>\n",
              "      <th>Topic</th>\n",
              "    </tr>\n",
              "  </thead>\n",
              "  <tbody>\n",
              "    <tr>\n",
              "      <th>0</th>\n",
              "      <td>A few things. You might have negative- frequen...</td>\n",
              "      <td>Biology</td>\n",
              "    </tr>\n",
              "    <tr>\n",
              "      <th>1</th>\n",
              "      <td>Is it so hard to believe that there exist part...</td>\n",
              "      <td>Physics</td>\n",
              "    </tr>\n",
              "    <tr>\n",
              "      <th>2</th>\n",
              "      <td>There are bees</td>\n",
              "      <td>Biology</td>\n",
              "    </tr>\n",
              "    <tr>\n",
              "      <th>3</th>\n",
              "      <td>I'm a medication technician. And that's alot o...</td>\n",
              "      <td>Biology</td>\n",
              "    </tr>\n",
              "    <tr>\n",
              "      <th>4</th>\n",
              "      <td>Cesium is such a pretty metal.</td>\n",
              "      <td>Chemistry</td>\n",
              "    </tr>\n",
              "    <tr>\n",
              "      <th>...</th>\n",
              "      <td>...</td>\n",
              "      <td>...</td>\n",
              "    </tr>\n",
              "    <tr>\n",
              "      <th>8690</th>\n",
              "      <td>I make similar observations over the last week...</td>\n",
              "      <td>Biology</td>\n",
              "    </tr>\n",
              "    <tr>\n",
              "      <th>8691</th>\n",
              "      <td>You would know.</td>\n",
              "      <td>Biology</td>\n",
              "    </tr>\n",
              "    <tr>\n",
              "      <th>8692</th>\n",
              "      <td>Also use the correct number of sig figs</td>\n",
              "      <td>Chemistry</td>\n",
              "    </tr>\n",
              "    <tr>\n",
              "      <th>8693</th>\n",
              "      <td>What about the ethical delimmas,  groundbreaki...</td>\n",
              "      <td>Biology</td>\n",
              "    </tr>\n",
              "    <tr>\n",
              "      <th>8694</th>\n",
              "      <td>I would like to know too.</td>\n",
              "      <td>Biology</td>\n",
              "    </tr>\n",
              "  </tbody>\n",
              "</table>\n",
              "<p>8695 rows × 2 columns</p>\n",
              "</div>"
            ],
            "text/plain": [
              "                                                Comment      Topic\n",
              "0     A few things. You might have negative- frequen...    Biology\n",
              "1     Is it so hard to believe that there exist part...    Physics\n",
              "2                                        There are bees    Biology\n",
              "3     I'm a medication technician. And that's alot o...    Biology\n",
              "4                        Cesium is such a pretty metal.  Chemistry\n",
              "...                                                 ...        ...\n",
              "8690  I make similar observations over the last week...    Biology\n",
              "8691                                    You would know.    Biology\n",
              "8692            Also use the correct number of sig figs  Chemistry\n",
              "8693  What about the ethical delimmas,  groundbreaki...    Biology\n",
              "8694                          I would like to know too.    Biology\n",
              "\n",
              "[8695 rows x 2 columns]"
            ]
          },
          "execution_count": 48,
          "metadata": {},
          "output_type": "execute_result"
        }
      ],
      "source": [
        "df"
      ]
    },
    {
      "cell_type": "code",
      "execution_count": null,
      "id": "1ff7ad00",
      "metadata": {
        "id": "1ff7ad00",
        "outputId": "13f13dd8-49a5-499c-9196-8f28ef0a5552"
      },
      "outputs": [
        {
          "name": "stderr",
          "output_type": "stream",
          "text": [
            "C:\\Users\\21ad016\\AppData\\Local\\Temp\\ipykernel_8640\\409917833.py:2: FutureWarning: The default value of regex will change from True to False in a future version.\n",
            "  df['Comment'] = df['Comment'].str.replace('[^\\w\\s]','')\n"
          ]
        }
      ],
      "source": [
        "df['Comment'] = df['Comment'].apply(lambda x: x.lower())  # convert to lowercase\n",
        "df['Comment'] = df['Comment'].str.replace('[^\\w\\s]','') "
      ]
    },
    {
      "cell_type": "code",
      "execution_count": null,
      "id": "6d72696c",
      "metadata": {
        "id": "6d72696c"
      },
      "outputs": [],
      "source": [
        "train_size = int(len(df) * 0.8)\n",
        "train_data = df[:train_size]\n",
        "test_data = df[train_size:]"
      ]
    },
    {
      "cell_type": "code",
      "execution_count": null,
      "id": "36a0ed6c",
      "metadata": {
        "id": "36a0ed6c"
      },
      "outputs": [],
      "source": [
        "from sklearn.feature_extraction.text import TfidfVectorizer\n",
        "from sklearn.naive_bayes import MultinomialNB\n",
        "vectorizer = TfidfVectorizer(stop_words='english')\n",
        "X_train = vectorizer.fit_transform(train_data['Comment'])\n",
        "X_test = vectorizer.transform(test_data['Comment'])"
      ]
    },
    {
      "cell_type": "code",
      "execution_count": null,
      "id": "33d6169b",
      "metadata": {
        "id": "33d6169b"
      },
      "outputs": [],
      "source": [
        "from sklearn.preprocessing import LabelEncoder\n",
        "le = LabelEncoder()\n",
        "y_train = le.fit_transform(train_data['Topic'])\n",
        "y_test = le.fit_transform(test_data['Topic'])"
      ]
    },
    {
      "cell_type": "code",
      "execution_count": null,
      "id": "0192011e",
      "metadata": {
        "id": "0192011e",
        "outputId": "489f0c68-6495-4ccd-e131-9253756937bb"
      },
      "outputs": [
        {
          "data": {
            "text/plain": [
              "array([0, 2, 0, ..., 1, 0, 2])"
            ]
          },
          "execution_count": 71,
          "metadata": {},
          "output_type": "execute_result"
        }
      ],
      "source": [
        "y_train"
      ]
    },
    {
      "cell_type": "code",
      "execution_count": null,
      "id": "5b9c5662",
      "metadata": {
        "id": "5b9c5662",
        "outputId": "4092a146-f785-48fc-a728-7da4cbf6d8bc"
      },
      "outputs": [
        {
          "data": {
            "text/plain": [
              "MultinomialNB()"
            ]
          },
          "execution_count": 72,
          "metadata": {},
          "output_type": "execute_result"
        }
      ],
      "source": [
        "nb_classifier = MultinomialNB()\n",
        "nb_classifier.fit(X_train, y_train)"
      ]
    },
    {
      "cell_type": "code",
      "execution_count": null,
      "id": "fa345646",
      "metadata": {
        "id": "fa345646",
        "outputId": "0081b7c7-2db3-4570-ad93-72d37c18215a"
      },
      "outputs": [
        {
          "name": "stdout",
          "output_type": "stream",
          "text": [
            "Accuracy: 0.7055779183438758\n"
          ]
        }
      ],
      "source": [
        "accuracy = nb_classifier.score(X_test, y_test)\n",
        "print(\"Accuracy:\", accuracy)"
      ]
    },
    {
      "cell_type": "code",
      "execution_count": null,
      "id": "3947f9cb",
      "metadata": {
        "id": "3947f9cb",
        "outputId": "fdcf3691-f8d2-4f64-be55-4138d69e4b6e"
      },
      "outputs": [
        {
          "data": {
            "text/plain": [
              "1739"
            ]
          },
          "execution_count": 65,
          "metadata": {},
          "output_type": "execute_result"
        }
      ],
      "source": [
        "len(y_pred)"
      ]
    },
    {
      "cell_type": "code",
      "execution_count": null,
      "id": "fe407690",
      "metadata": {
        "id": "fe407690",
        "outputId": "6f1e1025-907e-4302-d8e4-f7770a751bd5"
      },
      "outputs": [
        {
          "data": {
            "text/plain": [
              "1739"
            ]
          },
          "execution_count": 75,
          "metadata": {},
          "output_type": "execute_result"
        }
      ],
      "source": [
        "len(y_test)"
      ]
    },
    {
      "cell_type": "code",
      "execution_count": null,
      "id": "50cb0d6a",
      "metadata": {
        "id": "50cb0d6a",
        "outputId": "c9b60537-6406-42cc-8908-dfa68039586e"
      },
      "outputs": [
        {
          "name": "stdout",
          "output_type": "stream",
          "text": [
            "Precision: [0.65841073 0.71268657 0.88461538]\n",
            "Recall: [0.87517147 0.66900175 0.4715262 ]\n"
          ]
        }
      ],
      "source": [
        "from sklearn.metrics import precision_score, recall_score\n",
        "\n",
        "# Predict labels for the test data\n",
        "y_pred = nb_classifier.predict(X_test)\n",
        "\n",
        "# Calculate precision and recall for each label\n",
        "precision = precision_score(y_test, y_pred, average=None)\n",
        "recall = recall_score(y_test, y_pred, average=None)\n",
        "\n",
        "# Print the precision and recall values\n",
        "print('Precision:', precision)\n",
        "print('Recall:', recall)\n",
        "\n"
      ]
    }
  ],
  "metadata": {
    "kernelspec": {
      "display_name": "Python 3",
      "language": "python",
      "name": "python3"
    },
    "language_info": {
      "codemirror_mode": {
        "name": "ipython",
        "version": 3
      },
      "file_extension": ".py",
      "mimetype": "text/x-python",
      "name": "python",
      "nbconvert_exporter": "python",
      "pygments_lexer": "ipython3",
      "version": "3.9.13"
    },
    "colab": {
      "provenance": [],
      "include_colab_link": true
    }
  },
  "nbformat": 4,
  "nbformat_minor": 5
}